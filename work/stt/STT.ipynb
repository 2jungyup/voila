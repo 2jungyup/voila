{
 "cells": [
  {
   "cell_type": "code",
   "execution_count": 47,
   "metadata": {},
   "outputs": [],
   "source": [
    "import IPython.display as ipd\n",
    "import ipywidgets as widgets\n",
    "from speechbrain.pretrained import EncoderDecoderASR"
   ]
  },
  {
   "cell_type": "code",
   "execution_count": null,
   "metadata": {},
   "outputs": [],
   "source": [
    "asr_model = EncoderDecoderASR.from_hparams(\n",
    "    hparams_file=\"hyperparams.yaml\",\n",
    "    source=\"pretrained_models/asr-conformer-transformerlm-ksponspeech\",\n",
    "    savedir=\"pretrained_models/tmp\"\n",
    ")\n",
    "#,\n",
    "#    savedir=\"pretrained_models/asr-conformer-transformerlm-ksponspeech\"\n",
    "#)"
   ]
  },
  {
   "cell_type": "code",
   "execution_count": 3,
   "metadata": {},
   "outputs": [],
   "source": [
    "# Get sample speech\n",
    "#!wget https://huggingface.co/ddwkim/asr-conformer-transformerlm-ksponspeech/resolve/main/record_0_16k.wav\n",
    "#!wget https://huggingface.co/ddwkim/asr-conformer-transformerlm-ksponspeech/resolve/main/record_1_16k.wav\n",
    "#!wget https://huggingface.co/ddwkim/asr-conformer-transformerlm-ksponspeech/resolve/main/record_2_16k.wav"
   ]
  },
  {
   "cell_type": "markdown",
   "metadata": {},
   "source": [
    "# STT(speech-to-text) 데모"
   ]
  },
  {
   "cell_type": "markdown",
   "metadata": {},
   "source": [
    "## Basic samples"
   ]
  },
  {
   "cell_type": "code",
   "execution_count": 90,
   "metadata": {},
   "outputs": [],
   "source": [
    "audio_0 = './record_0_16k.wav'\n",
    "audio_1 = './record_2_16k.wav'\n",
    "audio_2 = './record_1_16k.wav'"
   ]
  },
  {
   "cell_type": "code",
   "execution_count": 84,
   "metadata": {},
   "outputs": [],
   "source": [
    "def test_1(b):\n",
    "    with output_1:\n",
    "        audio = ipd.Audio(audio_0, autoplay=True)\n",
    "        ipd.display(audio)\n",
    "        text = asr_model.transcribe_file(audio_0)\n",
    "        print(f'TEXT>> {text}')"
   ]
  },
  {
   "cell_type": "code",
   "execution_count": 85,
   "metadata": {},
   "outputs": [],
   "source": [
    "def test_2(b):\n",
    "    with output_2:\n",
    "        audio = ipd.Audio(audio_1, autoplay=True)\n",
    "        ipd.display(audio)\n",
    "        text = asr_model.transcribe_file(audio_1)\n",
    "        print(f'TEXT>> {text}')"
   ]
  },
  {
   "cell_type": "code",
   "execution_count": 86,
   "metadata": {},
   "outputs": [],
   "source": [
    "def test_3(b):\n",
    "    with output_3:\n",
    "        audio = ipd.Audio(audio_2, autoplay=True)\n",
    "        ipd.display(audio)\n",
    "        text = asr_model.transcribe_file(audio_2)\n",
    "        print(f'TEXT>> {text}')"
   ]
  },
  {
   "cell_type": "code",
   "execution_count": 87,
   "metadata": {},
   "outputs": [
    {
     "data": {
      "application/vnd.jupyter.widget-view+json": {
       "model_id": "445a70bc95f447de89a42b7b0a546dd1",
       "version_major": 2,
       "version_minor": 0
      },
      "text/plain": [
       "Button(description='TEST_1', icon='check', style=ButtonStyle())"
      ]
     },
     "metadata": {},
     "output_type": "display_data"
    },
    {
     "data": {
      "application/vnd.jupyter.widget-view+json": {
       "model_id": "51cb2d8a136742ecafa61ed7ba7d8b11",
       "version_major": 2,
       "version_minor": 0
      },
      "text/plain": [
       "Output()"
      ]
     },
     "metadata": {},
     "output_type": "display_data"
    }
   ],
   "source": [
    "button_1 = widgets.Button(\n",
    "    description='TEST_1',\n",
    "    icon='check',\n",
    ")\n",
    "output_1 = widgets.Output()\n",
    "display(button_1, output_1)\n",
    "button_1.on_click(test_1)"
   ]
  },
  {
   "cell_type": "code",
   "execution_count": 88,
   "metadata": {},
   "outputs": [
    {
     "data": {
      "application/vnd.jupyter.widget-view+json": {
       "model_id": "5761a9484a29454f82588ea48b52b6ac",
       "version_major": 2,
       "version_minor": 0
      },
      "text/plain": [
       "Button(description='TEST_2', icon='check', style=ButtonStyle())"
      ]
     },
     "metadata": {},
     "output_type": "display_data"
    },
    {
     "data": {
      "application/vnd.jupyter.widget-view+json": {
       "model_id": "51db37bfb42c43f988d6de98d85d3a13",
       "version_major": 2,
       "version_minor": 0
      },
      "text/plain": [
       "Output()"
      ]
     },
     "metadata": {},
     "output_type": "display_data"
    }
   ],
   "source": [
    "button_2 = widgets.Button(\n",
    "    description='TEST_2',\n",
    "    icon='check',\n",
    ")\n",
    "output_2 = widgets.Output()\n",
    "display(button_2, output_2)\n",
    "button_2.on_click(test_2)"
   ]
  },
  {
   "cell_type": "code",
   "execution_count": 89,
   "metadata": {},
   "outputs": [
    {
     "data": {
      "application/vnd.jupyter.widget-view+json": {
       "model_id": "3ebc79e96b2a4f11903ccd9146ee50d8",
       "version_major": 2,
       "version_minor": 0
      },
      "text/plain": [
       "Button(description='TEST_3', icon='check', style=ButtonStyle())"
      ]
     },
     "metadata": {},
     "output_type": "display_data"
    },
    {
     "data": {
      "application/vnd.jupyter.widget-view+json": {
       "model_id": "1b67ce782d68403ba6e6df0d2f86f9cf",
       "version_major": 2,
       "version_minor": 0
      },
      "text/plain": [
       "Output()"
      ]
     },
     "metadata": {},
     "output_type": "display_data"
    }
   ],
   "source": [
    "button_3 = widgets.Button(\n",
    "    description='TEST_3',\n",
    "    icon='check',\n",
    ")\n",
    "output_3 = widgets.Output()\n",
    "#display(button_3, output_3)\n",
    "button_3.on_click(test_3)"
   ]
  },
  {
   "cell_type": "markdown",
   "metadata": {},
   "source": [
    "## Recording my voice"
   ]
  },
  {
   "cell_type": "code",
   "execution_count": null,
   "metadata": {},
   "outputs": [],
   "source": []
  },
  {
   "cell_type": "code",
   "execution_count": null,
   "metadata": {},
   "outputs": [],
   "source": []
  },
  {
   "cell_type": "code",
   "execution_count": null,
   "metadata": {},
   "outputs": [],
   "source": []
  },
  {
   "cell_type": "code",
   "execution_count": 44,
   "metadata": {},
   "outputs": [],
   "source": [
    "#import speechbrain as sb\n",
    "#cer_metric = sb.utils.metric_stats.ErrorRateStats()\n",
    "#ref = \"\".join(\"오늘 왜 전화했어\".split())\n",
    "#hyp = \"\".join(asr_model.transcribe_file(audio_0).split())\n",
    "#cer_metric.append(['id'], [hyp], [ref])\n",
    "#cer_metric.summarize('error_rate')"
   ]
  }
 ],
 "metadata": {
  "kernelspec": {
   "display_name": "Python 3 (ipykernel)",
   "language": "python",
   "name": "python3"
  },
  "language_info": {
   "codemirror_mode": {
    "name": "ipython",
    "version": 3
   },
   "file_extension": ".py",
   "mimetype": "text/x-python",
   "name": "python",
   "nbconvert_exporter": "python",
   "pygments_lexer": "ipython3",
   "version": "3.8.3"
  }
 },
 "nbformat": 4,
 "nbformat_minor": 4
}
