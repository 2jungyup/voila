{
 "cells": [
  {
   "cell_type": "code",
   "execution_count": 10,
   "metadata": {},
   "outputs": [],
   "source": [
    "import IPython.display as ipd\n",
    "import ipywidgets as widgets\n",
    "from speechbrain.pretrained import EncoderDecoderASR"
   ]
  },
  {
   "cell_type": "code",
   "execution_count": 116,
   "metadata": {},
   "outputs": [],
   "source": [
    "asr_model = EncoderDecoderASR.from_hparams(\n",
    "    hparams_file=\"hyperparams.yaml\",\n",
    "    source=\"./pretrained_models/asr-conformer-transformerlm-ksponspeech\",\n",
    "    savedir=\"./pretrained_models/tmp\"\n",
    ")\n",
    "#,\n",
    "#    savedir=\"pretrained_models/asr-conformer-transformerlm-ksponspeech\"\n",
    "#)"
   ]
  },
  {
   "cell_type": "code",
   "execution_count": 3,
   "metadata": {},
   "outputs": [],
   "source": [
    "# Get sample speech\n",
    "#!wget https://huggingface.co/ddwkim/asr-conformer-transformerlm-ksponspeech/resolve/main/record_0_16k.wav\n",
    "#!wget https://huggingface.co/ddwkim/asr-conformer-transformerlm-ksponspeech/resolve/main/record_1_16k.wav\n",
    "#!wget https://huggingface.co/ddwkim/asr-conformer-transformerlm-ksponspeech/resolve/main/record_2_16k.wav"
   ]
  },
  {
   "cell_type": "markdown",
   "metadata": {},
   "source": [
    "# STT(speech-to-text) 데모\n",
    "\n",
    "* 관련 논문(KoSpeech): https://www.mdpi.com/2076-3417/10/19/6936\n",
    "* Models\n",
    "    * **SentencePiece**: tokenizer\n",
    "    * **Conformer(AM)**: to model both local and global dependencies of an audio sequence in a parameter-efficient way, 오디오 신호와 언어의 음성 단위 간의 관계를 모델링해주는 역할\n",
    "    * **CTC** (Connectionist Temporal Classification)\n",
    "    * **TransformerLM**: 언어의 단어단어 시퀀스 관계를 모델링\n",
    "\n",
    "### Outline of audio-reco process\n",
    "\n",
    "* audio -> **STT** -> summarize -> vectorize -> find similar"
   ]
  },
  {
   "cell_type": "markdown",
   "metadata": {},
   "source": [
    "## Basic samples"
   ]
  },
  {
   "cell_type": "code",
   "execution_count": 1,
   "metadata": {},
   "outputs": [],
   "source": [
    "audio_0 = './samples/record_0_16k.wav'\n",
    "audio_1 = './samples/record_2_16k.wav'\n",
    "audio_2 = './samples/record_1_16k.wav'"
   ]
  },
  {
   "cell_type": "code",
   "execution_count": 84,
   "metadata": {},
   "outputs": [],
   "source": [
    "def test_1(b):\n",
    "    with output_1:\n",
    "        audio = ipd.Audio(audio_0, autoplay=True)\n",
    "        ipd.display(audio)\n",
    "        text = asr_model.transcribe_file(audio_0)\n",
    "        print(f'TEXT>> {text}')"
   ]
  },
  {
   "cell_type": "code",
   "execution_count": 85,
   "metadata": {},
   "outputs": [],
   "source": [
    "def test_2(b):\n",
    "    with output_2:\n",
    "        audio = ipd.Audio(audio_1, autoplay=True)\n",
    "        ipd.display(audio)\n",
    "        text = asr_model.transcribe_file(audio_1)\n",
    "        print(f'TEXT>> {text}')"
   ]
  },
  {
   "cell_type": "code",
   "execution_count": 86,
   "metadata": {},
   "outputs": [],
   "source": [
    "def test_3(b):\n",
    "    with output_3:\n",
    "        audio = ipd.Audio(audio_2, autoplay=True)\n",
    "        ipd.display(audio)\n",
    "        text = asr_model.transcribe_file(audio_2)\n",
    "        print(f'TEXT>> {text}')"
   ]
  },
  {
   "cell_type": "code",
   "execution_count": 87,
   "metadata": {},
   "outputs": [
    {
     "data": {
      "application/vnd.jupyter.widget-view+json": {
       "model_id": "445a70bc95f447de89a42b7b0a546dd1",
       "version_major": 2,
       "version_minor": 0
      },
      "text/plain": [
       "Button(description='TEST_1', icon='check', style=ButtonStyle())"
      ]
     },
     "metadata": {},
     "output_type": "display_data"
    },
    {
     "data": {
      "application/vnd.jupyter.widget-view+json": {
       "model_id": "51cb2d8a136742ecafa61ed7ba7d8b11",
       "version_major": 2,
       "version_minor": 0
      },
      "text/plain": [
       "Output()"
      ]
     },
     "metadata": {},
     "output_type": "display_data"
    }
   ],
   "source": [
    "button_1 = widgets.Button(\n",
    "    description='TEST_1',\n",
    "    icon='check',\n",
    ")\n",
    "output_1 = widgets.Output()\n",
    "display(button_1, output_1)\n",
    "button_1.on_click(test_1)"
   ]
  },
  {
   "cell_type": "code",
   "execution_count": 88,
   "metadata": {},
   "outputs": [
    {
     "data": {
      "application/vnd.jupyter.widget-view+json": {
       "model_id": "5761a9484a29454f82588ea48b52b6ac",
       "version_major": 2,
       "version_minor": 0
      },
      "text/plain": [
       "Button(description='TEST_2', icon='check', style=ButtonStyle())"
      ]
     },
     "metadata": {},
     "output_type": "display_data"
    },
    {
     "data": {
      "application/vnd.jupyter.widget-view+json": {
       "model_id": "51db37bfb42c43f988d6de98d85d3a13",
       "version_major": 2,
       "version_minor": 0
      },
      "text/plain": [
       "Output()"
      ]
     },
     "metadata": {},
     "output_type": "display_data"
    }
   ],
   "source": [
    "button_2 = widgets.Button(\n",
    "    description='TEST_2',\n",
    "    icon='check',\n",
    ")\n",
    "output_2 = widgets.Output()\n",
    "display(button_2, output_2)\n",
    "button_2.on_click(test_2)"
   ]
  },
  {
   "cell_type": "code",
   "execution_count": 89,
   "metadata": {},
   "outputs": [
    {
     "data": {
      "application/vnd.jupyter.widget-view+json": {
       "model_id": "3ebc79e96b2a4f11903ccd9146ee50d8",
       "version_major": 2,
       "version_minor": 0
      },
      "text/plain": [
       "Button(description='TEST_3', icon='check', style=ButtonStyle())"
      ]
     },
     "metadata": {},
     "output_type": "display_data"
    },
    {
     "data": {
      "application/vnd.jupyter.widget-view+json": {
       "model_id": "1b67ce782d68403ba6e6df0d2f86f9cf",
       "version_major": 2,
       "version_minor": 0
      },
      "text/plain": [
       "Output()"
      ]
     },
     "metadata": {},
     "output_type": "display_data"
    }
   ],
   "source": [
    "button_3 = widgets.Button(\n",
    "    description='TEST_3',\n",
    "    icon='check',\n",
    ")\n",
    "output_3 = widgets.Output()\n",
    "#display(button_3, output_3)\n",
    "button_3.on_click(test_3)"
   ]
  },
  {
   "cell_type": "markdown",
   "metadata": {},
   "source": [
    "# Advanced samples"
   ]
  },
  {
   "cell_type": "markdown",
   "metadata": {},
   "source": [
    "## Sports broadcasting"
   ]
  },
  {
   "cell_type": "code",
   "execution_count": 3,
   "metadata": {},
   "outputs": [],
   "source": [
    "sports_0 = './samples/159_sample.wav'\n",
    "sports_1 = './samples/201_sample.wav'\n",
    "sports_2 = './samples/339_sample.wav'"
   ]
  },
  {
   "cell_type": "code",
   "execution_count": 4,
   "metadata": {},
   "outputs": [],
   "source": [
    "def sports_test_1(b):\n",
    "    with sports_output_1:\n",
    "        audio = ipd.Audio(sports_0, autoplay=True)\n",
    "        ipd.display(audio)\n",
    "        text = asr_model.transcribe_file(sports_0)\n",
    "        print(f'TEXT>> {text}')"
   ]
  },
  {
   "cell_type": "code",
   "execution_count": 5,
   "metadata": {},
   "outputs": [],
   "source": [
    "def sports_test_2(b):\n",
    "    with sports_output_2:\n",
    "        audio = ipd.Audio(sports_1, autoplay=True)\n",
    "        ipd.display(audio)\n",
    "        text = asr_model.transcribe_file(sports_1)\n",
    "        print(f'TEXT>> {text}')"
   ]
  },
  {
   "cell_type": "code",
   "execution_count": 6,
   "metadata": {},
   "outputs": [],
   "source": [
    "def sports_test_3(b):\n",
    "    with sports_output_3:\n",
    "        audio = ipd.Audio(sports_2, autoplay=True)\n",
    "        ipd.display(audio)\n",
    "        text = asr_model.transcribe_file(sports_2)\n",
    "        print(f'TEXT>> {text}')"
   ]
  },
  {
   "cell_type": "code",
   "execution_count": 11,
   "metadata": {},
   "outputs": [
    {
     "data": {
      "application/vnd.jupyter.widget-view+json": {
       "model_id": "8b559b2d9e974907aee5b971dd664e2a",
       "version_major": 2,
       "version_minor": 0
      },
      "text/plain": [
       "Button(description='TEST_1', icon='check', style=ButtonStyle())"
      ]
     },
     "metadata": {},
     "output_type": "display_data"
    },
    {
     "data": {
      "application/vnd.jupyter.widget-view+json": {
       "model_id": "8b7f4cb3d3244dd48ea7ab2d60ebd620",
       "version_major": 2,
       "version_minor": 0
      },
      "text/plain": [
       "Output()"
      ]
     },
     "metadata": {},
     "output_type": "display_data"
    }
   ],
   "source": [
    "sports_button_1 = widgets.Button(\n",
    "    description='TEST_1',\n",
    "    icon='check',\n",
    ")\n",
    "sports_output_1 = widgets.Output()\n",
    "display(sports_button_1, sports_output_1)\n",
    "sports_button_1.on_click(sports_test_1)"
   ]
  },
  {
   "cell_type": "code",
   "execution_count": 12,
   "metadata": {},
   "outputs": [
    {
     "data": {
      "application/vnd.jupyter.widget-view+json": {
       "model_id": "edd5e3de842e40698145c7c6e5afd99a",
       "version_major": 2,
       "version_minor": 0
      },
      "text/plain": [
       "Button(description='TEST_2', icon='check', style=ButtonStyle())"
      ]
     },
     "metadata": {},
     "output_type": "display_data"
    },
    {
     "data": {
      "application/vnd.jupyter.widget-view+json": {
       "model_id": "0fe476d133d848ffaa11cda022ce6bd8",
       "version_major": 2,
       "version_minor": 0
      },
      "text/plain": [
       "Output()"
      ]
     },
     "metadata": {},
     "output_type": "display_data"
    }
   ],
   "source": [
    "sports_button_2 = widgets.Button(\n",
    "    description='TEST_2',\n",
    "    icon='check',\n",
    ")\n",
    "sports_output_2 = widgets.Output()\n",
    "display(sports_button_2, sports_output_2)\n",
    "sports_button_2.on_click(sports_test_2)"
   ]
  },
  {
   "cell_type": "code",
   "execution_count": 13,
   "metadata": {},
   "outputs": [
    {
     "data": {
      "application/vnd.jupyter.widget-view+json": {
       "model_id": "d3246f2f22d94b86a38fa44569ca0d96",
       "version_major": 2,
       "version_minor": 0
      },
      "text/plain": [
       "Button(description='TEST_3', icon='check', style=ButtonStyle())"
      ]
     },
     "metadata": {},
     "output_type": "display_data"
    },
    {
     "data": {
      "application/vnd.jupyter.widget-view+json": {
       "model_id": "5f4a34c1a5794601b013de2dbe05078b",
       "version_major": 2,
       "version_minor": 0
      },
      "text/plain": [
       "Output()"
      ]
     },
     "metadata": {},
     "output_type": "display_data"
    }
   ],
   "source": [
    "sports_button_3 = widgets.Button(\n",
    "    description='TEST_3',\n",
    "    icon='check',\n",
    ")\n",
    "sports_output_3 = widgets.Output()\n",
    "display(sports_button_3, sports_output_3)\n",
    "sports_button_3.on_click(sports_test_3)"
   ]
  },
  {
   "cell_type": "markdown",
   "metadata": {},
   "source": [
    "## Audio samples"
   ]
  },
  {
   "cell_type": "code",
   "execution_count": null,
   "metadata": {},
   "outputs": [],
   "source": []
  },
  {
   "cell_type": "markdown",
   "metadata": {},
   "source": [
    "## Recording my voice\n",
    "* 장비부하와 긴 inference시간 이슈로 되도록 짧게 녹음 부탁드려요 (<20s)"
   ]
  },
  {
   "cell_type": "code",
   "execution_count": 111,
   "metadata": {},
   "outputs": [],
   "source": [
    "#from ipywebrtc import AudioStream, AudioRecorder\n",
    "import random\n",
    "from ipywebrtc import AudioRecorder, CameraStream\n",
    "#import torchaudio\n",
    "from IPython.display import Audio"
   ]
  },
  {
   "cell_type": "code",
   "execution_count": 112,
   "metadata": {},
   "outputs": [
    {
     "data": {
      "application/vnd.jupyter.widget-view+json": {
       "model_id": "3e1a07d8b16a49ac96c614ae7d6fec92",
       "version_major": 2,
       "version_minor": 0
      },
      "text/plain": [
       "AudioRecorder(audio=Audio(value=b'', format='webm'), stream=CameraStream(constraints={'audio': True, 'video': …"
      ]
     },
     "metadata": {},
     "output_type": "display_data"
    }
   ],
   "source": [
    "#ecorder = AudioRecorder(filename='tmp_rec', stream='mp3')\n",
    "\n",
    "camera = CameraStream(constraints={'audio': True,'video':False})\n",
    "recorder = AudioRecorder(stream=camera)\n",
    "display(recorder)"
   ]
  },
  {
   "cell_type": "code",
   "execution_count": 115,
   "metadata": {},
   "outputs": [],
   "source": [
    "def stt_for_rec(b):\n",
    "    with output_4:\n",
    "        rand_num = random.randint(1000, 9999)\n",
    "        tmp_fname_webm = f'tmp_rec/{rand_num}.webm'\n",
    "        tmp_fname_wav = f'tmp_rec/{rand_num}.wav'\n",
    "        tmp_fname_wav_2 = f'{rand_num}.wav'\n",
    "        with open(tmp_fname_webm, 'wb') as f:\n",
    "            f.write(recorder.audio.value)\n",
    "    \n",
    "        !ffmpeg -i $tmp_fname_webm -ac 1 -f wav $tmp_fname_wav -y -hide_banner -loglevel panic\n",
    "\n",
    "        audio = ipd.Audio(tmp_fname_wav, autoplay=False)\n",
    "        text = asr_model.transcribe_file(tmp_fname_wav)\n",
    "        print(f'TEXT>> {text}')\n",
    "        \n",
    "        !rm -f $tmp_fname_webm $tmp_fname_wav $tmp_fname_wav_2\n"
   ]
  },
  {
   "cell_type": "code",
   "execution_count": 114,
   "metadata": {},
   "outputs": [
    {
     "data": {
      "application/vnd.jupyter.widget-view+json": {
       "model_id": "35281735f7ec4108811c456de0c2942a",
       "version_major": 2,
       "version_minor": 0
      },
      "text/plain": [
       "Button(description='RUN_STT', icon='check', style=ButtonStyle())"
      ]
     },
     "metadata": {},
     "output_type": "display_data"
    },
    {
     "data": {
      "application/vnd.jupyter.widget-view+json": {
       "model_id": "203e6f6660c64ea182742e155617b8a0",
       "version_major": 2,
       "version_minor": 0
      },
      "text/plain": [
       "Output()"
      ]
     },
     "metadata": {},
     "output_type": "display_data"
    }
   ],
   "source": [
    "button_4 = widgets.Button(\n",
    "    description='RUN_STT',\n",
    "    icon='check',\n",
    ")\n",
    "output_4 = widgets.Output()\n",
    "display(button_4, output_4)\n",
    "button_4.on_click(stt_for_rec)"
   ]
  },
  {
   "cell_type": "code",
   "execution_count": null,
   "metadata": {},
   "outputs": [],
   "source": []
  },
  {
   "cell_type": "code",
   "execution_count": null,
   "metadata": {},
   "outputs": [],
   "source": []
  },
  {
   "cell_type": "code",
   "execution_count": null,
   "metadata": {},
   "outputs": [],
   "source": []
  }
 ],
 "metadata": {
  "kernelspec": {
   "display_name": "Python 3 (ipykernel)",
   "language": "python",
   "name": "python3"
  },
  "language_info": {
   "codemirror_mode": {
    "name": "ipython",
    "version": 3
   },
   "file_extension": ".py",
   "mimetype": "text/x-python",
   "name": "python",
   "nbconvert_exporter": "python",
   "pygments_lexer": "ipython3",
   "version": "3.8.3"
  }
 },
 "nbformat": 4,
 "nbformat_minor": 4
}
